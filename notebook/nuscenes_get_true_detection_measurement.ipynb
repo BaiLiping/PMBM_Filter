{
 "cells": [
  {
   "cell_type": "code",
   "execution_count": 1,
   "metadata": {},
   "outputs": [],
   "source": [
    "from nuscenes import NuScenes\n",
    "from nuscenes.eval.common.data_classes import EvalBoxes\n",
    "from nuscenes.eval.detection.data_classes import DetectionBox \n",
    "from pyquaternion import Quaternion\n",
    "import json"
   ]
  },
  {
   "cell_type": "code",
   "execution_count": 2,
   "metadata": {},
   "outputs": [],
   "source": [
    "nusc = NuScenes(version='v1.0-mini', dataroot='/home/mqdao/Downloads/nuScene/v1.0-mini', verbose=False)"
   ]
  },
  {
   "cell_type": "code",
   "execution_count": 3,
   "metadata": {},
   "outputs": [
    {
     "data": {
      "text/plain": [
       "{'token': '2fc3753772e241f2ab2cd16a784cc680',\n",
       " 'log_token': '3a43824b84534c98bda1d07548db5817',\n",
       " 'nbr_samples': 41,\n",
       " 'first_sample_token': 'cd9964f8c3d34383b16e9c2997de1ed0',\n",
       " 'last_sample_token': '8fe9664cec514a58b1184c4fcefda6b5',\n",
       " 'name': 'scene-0757',\n",
       " 'description': 'Arrive at busy intersection, bus, wait at intersection, bicycle, peds'}"
      ]
     },
     "execution_count": 3,
     "metadata": {},
     "output_type": "execute_result"
    }
   ],
   "source": [
    "my_scene_token = nusc.field2token('scene', 'name', 'scene-0757')[0]\n",
    "my_scene = nusc.get('scene', my_scene_token)\n",
    "my_scene"
   ]
  },
  {
   "cell_type": "markdown",
   "metadata": {},
   "source": [
    "# Process detection file"
   ]
  },
  {
   "cell_type": "code",
   "execution_count": 4,
   "metadata": {},
   "outputs": [],
   "source": [
    "detection_file = '/home/mqdao/Downloads/nuScene/detection-megvii/megvii_train.json'"
   ]
  },
  {
   "cell_type": "code",
   "execution_count": 5,
   "metadata": {},
   "outputs": [
    {
     "name": "stdout",
     "output_type": "stream",
     "text": [
      "meta:  {'use_camera': False, 'use_lidar': True, 'use_radar': False, 'use_map': False, 'use_external': False}\n",
      "Loaded results from /home/mqdao/Downloads/nuScene/detection-megvii/megvii_train.json. Found detections for 28130 samples.\n"
     ]
    }
   ],
   "source": [
    "with open(detection_file) as f:\n",
    "    data = json.load(f)\n",
    "all_results = EvalBoxes.deserialize(data['results'], DetectionBox)\n",
    "meta = data['meta']\n",
    "print('meta: ', meta)\n",
    "print(\"Loaded results from {}. Found detections for {} samples.\"\n",
    ".format(detection_file, len(all_results.sample_tokens)))"
   ]
  },
  {
   "cell_type": "markdown",
   "metadata": {},
   "source": [
    "# Extract detection for 1 scene from Detection file"
   ]
  },
  {
   "cell_type": "code",
   "execution_count": 7,
   "metadata": {},
   "outputs": [],
   "source": [
    "NUSCENES_TRACKING_NAMES = [\n",
    "  'bicycle',\n",
    "  'bus',\n",
    "  'car',\n",
    "  'motorcycle',\n",
    "  'pedestrian',\n",
    "  'trailer',\n",
    "  'truck'\n",
    "]"
   ]
  },
  {
   "cell_type": "code",
   "execution_count": 8,
   "metadata": {
    "scrolled": false
   },
   "outputs": [],
   "source": [
    "# store all measurements\n",
    "all_measurements = {}\n",
    "all_classes = {}\n",
    "sample_token = my_scene['first_sample_token']\n",
    "current_time_step = 0\n",
    "score_theshold = 0.2\n",
    "while True:\n",
    "    sample_record = nusc.get('sample', sample_token)\n",
    "    gt_num_objects = len(sample_record['anns'])\n",
    "    # filter detections with low detection score\n",
    "    filtered_detections = []\n",
    "    i_threshold = 0\n",
    "    filtered_detections = [detection for detection in all_results.boxes[sample_token]\n",
    "                           if detection.detection_score > score_theshold]\n",
    "    all_measurements[current_time_step] = []\n",
    "    all_classes[current_time_step] = []\n",
    "    for detection in filtered_detections:\n",
    "        # get obj_type\n",
    "        if detection.detection_name not in NUSCENES_TRACKING_NAMES:\n",
    "            continue\n",
    "        obj_type = detection.detection_name\n",
    "        # get object pose\n",
    "        x, y, z = detection.translation\n",
    "        quaternion = Quaternion(detection.rotation)\n",
    "        yaw = quaternion.angle if quaternion.axis[2] > 0 else -quaternion.angle \n",
    "        # get size\n",
    "        size = list(detection.size)\n",
    "        # get score\n",
    "        score = detection.detection_score\n",
    "        # store mearurement & class\n",
    "        all_measurements[current_time_step].append([x, y, yaw] + size + [z] + [score])\n",
    "        all_classes[current_time_step].append(obj_type)\n",
    "    \n",
    "    # move on\n",
    "    sample_token = sample_record['next']\n",
    "    if sample_token == '':\n",
    "        break\n",
    "    current_time_step += 1"
   ]
  },
  {
   "cell_type": "code",
   "execution_count": 9,
   "metadata": {},
   "outputs": [
    {
     "name": "stdout",
     "output_type": "stream",
     "text": [
      "len(all_measurements) 41\n",
      "len(all_classes) 41\n"
     ]
    }
   ],
   "source": [
    "print('len(all_measurements)', len(all_measurements))\n",
    "print('len(all_classes)', len(all_classes))"
   ]
  },
  {
   "cell_type": "code",
   "execution_count": 10,
   "metadata": {},
   "outputs": [
    {
     "name": "stdout",
     "output_type": "stream",
     "text": [
      "len(all_measurements[0]) 12\n"
     ]
    }
   ],
   "source": [
    "print('len(all_measurements[0])', len(all_measurements[0]))"
   ]
  },
  {
   "cell_type": "markdown",
   "metadata": {},
   "source": [
    "## Save scene measurements to file"
   ]
  },
  {
   "cell_type": "code",
   "execution_count": 11,
   "metadata": {},
   "outputs": [],
   "source": [
    "outdata = {'all_measurements': all_measurements,\n",
    "         'all_classes': all_classes}\n",
    "with open('./../scene-detection/fixed-megvii-meausrement-full-scene-0757.json', 'w') as outfile:\n",
    "    json.dump(outdata, outfile)"
   ]
  },
  {
   "cell_type": "code",
   "execution_count": null,
   "metadata": {},
   "outputs": [],
   "source": []
  }
 ],
 "metadata": {
  "kernelspec": {
   "display_name": "Python 3",
   "language": "python",
   "name": "python3"
  },
  "language_info": {
   "codemirror_mode": {
    "name": "ipython",
    "version": 3
   },
   "file_extension": ".py",
   "mimetype": "text/x-python",
   "name": "python",
   "nbconvert_exporter": "python",
   "pygments_lexer": "ipython3",
   "version": "3.6.10"
  }
 },
 "nbformat": 4,
 "nbformat_minor": 4
}
